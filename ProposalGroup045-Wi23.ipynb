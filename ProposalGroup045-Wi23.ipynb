{
 "cells": [
  {
   "cell_type": "markdown",
   "metadata": {},
   "source": [
    "# COGS118A (WI23) - Group045 - Project Proposal"
   ]
  },
  {
   "cell_type": "markdown",
   "metadata": {},
   "source": [
    "# Team Members\n",
    "\n",
    "- [Tej Nair](mailto:tnair@ucsd.edu)\n",
    "- [Angel Olivas](mailto:aaolivas@ucsd.edu)\n",
    "- [Stanley Sisson](mailto:sfsisson@ucsd.edu)\n",
    "- [Sang Tran](mailto:stt008@ucsd.edu)"
   ]
  },
  {
   "cell_type": "markdown",
   "metadata": {},
   "source": [
    "# Abstract \n",
    "This paper presents a method of classifying galaxies using two-dimensional maps from the Mapping Nearby Galaxies at APO (MaNGA). We develop and evaluate using supervised machine learning for galaxy type classification. Utilizing MaNGA two-dimensional  spectra data, although its original goal is to understand life history of our present day galaxies, our approach employs a novel approach with an attempt to classify galaxies' morphological shapes. The performance of the proposed classification model is evaluated using an extensive dataset of MaNGA spectra from the Sloan Digital Sky Survey and labeled galaxies' shapes from the Galaxy Zoo 1. Instead of using filters from a Convolution Neural Networks (CNN) architecture to train, we will reduce our two-dimensional data into one-dimensional and use that to train via different algorithm models to compare and contrast such as one-vs-rest, support vector machines, and decision trees."
   ]
  },
  {
   "cell_type": "markdown",
   "metadata": {},
   "source": [
    "# Background\n",
    "\n",
    "### Galaxies?\n",
    "When you look up into the sky, there are thousands of stars that are pinpricks of light (assuming you are in a dark place). The vasy majority of these stars that are visible to us are only in our nearest neighborhood of the galaxy: within a couple hundred light-years of us [\\[A\\]](https://physics.stackexchange.com/a/164021), and make up less than 1% of a percent of the stars in our galaxy (Actually its less than a thousanth of that, if you include all stars visible throughout the year). Beyond these stars, and even beyond our galaxy are billions of other galaxies that are similarly vast to our own milkyway. The Hubble Space Telescope famously took a long exposure of one of the darkest areas of the sky, and produced [a beautiful image](https://web.archive.org/web/20230222000000/https://www.nasa.gov/mission_pages/hubble/servicing/SM4/multimedia/wfpc/deep-field.html) showing many many speckles, all of which were very distant galaxies. \n",
    "\n",
    "These galaxies can be divided into a few categories based on their visual shape, allowing for categorization and study of similar galaxies and how they formed and evolve over the vast lifespan of the universe. There are two main categories: Spiral and Elliptical galaxies. These two categories can be further divided into how elliptical and how well defined the spiral arms are, resulting in a total of [11 subcategories](https://esahubble.org/images/heic9902o/).\n",
    "\n",
    "### Prior Research:\n",
    "\n",
    "Galaxies have previously been categorized en-mas using low resolution spectral information (ie: broad color filters), with crowdsourced shape identification through the project \\[Galaxy Zoo\\]. Previous attempts have been made to train a classifier on the 3 color images and shapes with moderate to low success [\\[B\\]](https://youtu.be/H6UBjbio5-A). In this project we plan to apply these techniques to classify galaxies based on high resolution spectral data from the MaNGA Survey (Mapping Nearby Galaxies at APO) from the Sloan Digital Sky Survey.\n",
    "\n",
    "### Spectra?\n",
    "Objects that emit light emit light in a range of wavelengths that are precieved by humans as different colors. Different objects produce, absorb, and reflect light at different wavelengths differently in characteristic ways that can tell information about a source.\n",
    "\n",
    "For the most part there are two main production methods: One, when any object is heated up, it has general emissions over a broad range of wavelengths, known as black-body radiation. And the other is when various gasses are ionized and changing energy states, when electrons fall back into lower energy states, they release photons of energy at very specific wavelengths that corrospond exactly with the energy released by the electron. These create spectral lines: a large concentration of light intensity in a small band of wavelengths.\n",
    "\n",
    "However this process also has its opposite: when that wavelength passes through a material that would emit at that wavelength, that material can absorb that light in the opposite process as the creation of spectral lines. These are called {spectral }, and they, in addition to physically blocking light (like dust or a solid rock), are how most light is attenuated. Most spectra are primarily made up of these features, and can be used to determine the tempurature and chemical makeup of the source that emitted that light. \n",
    "\n",
    "Humans only have 4 kinds of light sensing cells (three for color and one for luminance) that are sensetive to a very small portion of the spectrum, and thus can't view anything outside of that small range. But even within that range, only having three sensors means there is low spectral information. Technology has provided us with a way to measure precise spectra: the spectrograph. A spectrograph can measure the exact intensitites at very precice wavelengths of light, allowing for a lot of information to be gleaned about the source. \n",
    "\n",
    "The survey that we are using (MaNGA) has collected spectra for {hundreds of thousands} of galaxies, which are corrolated with that galaxy's history and makeup, which is also corrolated with the galaxy's shape. Thus we can use these spectral readings of these galaxies to hopefully make predictions about their shapes."
   ]
  },
  {
   "cell_type": "markdown",
   "metadata": {},
   "source": [
    "# Problem Statement\n",
    "\n",
    "Galaxy classification is a difficult task due to the large number of galaxies which all have varying sizes, shapes, and structures. There are more than 100 billion galaxies in the observable universe, each possessing their own distinct form. Additionally, galaxies progress over time, making it difficult to break them down into distinct groups. The images of galaxies we observe from Earth are often blurred due to light being refracted through dust and gas in space, making the classification process even more complex. However, we will classify the shapes of the galaxies into three universally agreed shapes as elliptical, spiral, or irregular. A well-known original Galaxy Zoo Project attempted to classify galaxies shapes based on the confidence level defined as number of votes. This method raises a compromise between the number of galaxies that remain unclassified and those that are incorrectly classified. "
   ]
  },
  {
   "cell_type": "markdown",
   "metadata": {},
   "source": [
    "# Data\n"
   ]
  },
  {
   "cell_type": "markdown",
   "metadata": {},
   "source": [
    "# Proposed Solution\n",
    "\n",
    "Our proposed solution is to use one dimensional data, which are transformed from two dimensional spectra data from MaNGA to train with labels matched from Galaxy Zoo Data Release 1.\n",
    "\n",
    "We will first need search for overlapping data between the two sources so that we can match the data from MaNGA with labels from Galaxy Zoo. After that, a appropriate method will be chosen to best approximate the 2D data into 1D without losing much information."
   ]
  },
  {
   "cell_type": "markdown",
   "metadata": {},
   "source": [
    "# Evaluation Metrics\n"
   ]
  },
  {
   "cell_type": "markdown",
   "metadata": {},
   "source": [
    "# Ethics & Privacy\n",
    "\n",
    "Galaxy classification is a large task due to the number of galaxies, and as such is assisted by computers and/or crowds. However, using our algorithm may lead to undue confidence in its results. For example, since the classifier should be relatively cheap to run in terms of compute and it only relies on spectral data, this classifier may be preferred to other better classifiers. Taking this kind of shortcut may cause researchers to be led astray, or in more malicious cases, to perform sloppy analyses or even fabricate research.\n",
    "\n",
    "Inexpensive galaxy classification is crucial to studying large amounts of galaxies at once. Since our classifier only looks at a subset of the available data, it may ignore atypical examples of galaxies, such as red (old) spiral galaxies and blue (new) elliptical galaxies. Thus, if researchers used our classification to conduct large-scale causative analyses, their ground dataset would be biased, which could likely cause effects that would otherwise be observed to disappear, or ostensible effects that are actually correlated with confounding variables. In general, drawing conclusions from a biased classification of galaxies could easily lead to inaccurate results. Inaccuracy in science lowers the quality of research, concretely effects the allocation of resources, and could prematurely close off otherwise-promising areas of research while developing/keeping lower quality areas.\n",
    "\n",
    "This effect can be mitigated by clearly labeling the responsible use and limits of the classifier. However, there still exists potential of harm when recklessly or maliciously used."
   ]
  },
  {
   "cell_type": "markdown",
   "metadata": {},
   "source": [
    "# Team Expectations "
   ]
  },
  {
   "cell_type": "markdown",
   "metadata": {},
   "source": [
    "# Project Timeline Proposal"
   ]
  },
  {
   "cell_type": "markdown",
   "metadata": {},
   "source": [
    "> Replace this with something meaningful that is appropriate for your needs. It doesn't have to be something that fits this format.  It doesn't have to be set in stone... \"no battle plan survives contact with the enemy\". But you need a battle plan nonetheless, and you need to keep it updated so you understand what you are trying to accomplish, who's responsible for what, and what the expected due dates are for each item.\n",
    "> \n",
    "> | Meeting Date  | Meeting Time| Completed Before Meeting  | Discuss at Meeting |\n",
    "> |---|---|---|---|\n",
    "> | 1/20  |  1 PM |  Brainstorm topics/questions (all)  | Determine best form of communication; Discuss and decide on final project topic; discuss hypothesis; begin background research | \n",
    "> | 1/26  |  10 AM |  Do background research on topic (Pelé) | Discuss ideal dataset(s) and ethics; draft project proposal | \n",
    "> | 2/1  | 10 AM  | Edit, finalize, and submit proposal; Search for datasets (Beckenbaur)  | Discuss Wrangling and possible analytical approaches; Assign group members to lead each specific part   |\n",
    "> | 2/14  | 6 PM  | Import & Wrangle Data ,do some EDA (Maradonna) | Review/Edit wrangling/EDA; Discuss Analysis Plan   |\n",
    "> | 2/23  | 12 PM  | Finalize wrangling/EDA; Begin programming for project (Cruyff) | Discuss/edit project code; Complete project |\n",
    "> | 3/13  | 12 PM  | Complete analysis; Draft results/conclusion/discussion (Carlos)| Discuss/edit full project |\n",
    "> | 3/19  | Before 11:59 PM  | NA | Turn in Final Project  |"
   ]
  },
  {
   "cell_type": "markdown",
   "metadata": {},
   "source": [
    "# Footnotes\n",
    "> <a name=\"lorenznote\"></a>1.[^](#lorenz): Lorenz, T. (9 Dec 2021) Birds Aren’t Real, or Are They? Inside a Gen Z Conspiracy Theory. *The New York Times*. https://www.nytimes.com/2021/12/09/technology/birds-arent-real-gen-z-misinformation.html<br> \n",
    "> <a name=\"admonishnote\"></a>2.[^](#admonish): Also refs should be important to the background, not some randomly chosen vaguely related stuff. Include a web link if possible in refs as above.<br>\n",
    "> <a name=\"sotanote\"></a>3.[^](#sota): Perhaps the current state of the art solution such as you see on [Papers with code](https://paperswithcode.com/sota). Or maybe not SOTA, but rather a standard textbook/Kaggle solution to this kind of problem\n"
   ]
  }
 ],
 "metadata": {
  "kernelspec": {
   "display_name": "Python 3 (ipykernel)",
   "language": "python",
   "name": "python3"
  },
  "language_info": {
   "codemirror_mode": {
    "name": "ipython",
    "version": 3
   },
   "file_extension": ".py",
   "mimetype": "text/x-python",
   "name": "python",
   "nbconvert_exporter": "python",
   "pygments_lexer": "ipython3",
   "version": "3.9.13"
  }
 },
 "nbformat": 4,
 "nbformat_minor": 2
}
