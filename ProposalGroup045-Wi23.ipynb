{
 "cells": [
  {
   "cell_type": "markdown",
   "metadata": {},
   "source": [
    "# COGS118A (WI23) - Group045 - Project Proposal"
   ]
  },
  {
   "cell_type": "markdown",
   "metadata": {},
   "source": [
    "# Team Members\n",
    "\n",
    "- [Tej Nair](mailto:tnair@ucsd.edu)\n",
    "- [Angel Olivas](mailto:aaolivas@ucsd.edu)\n",
    "- [Stanley Sisson](mailto:sfsisson@ucsd.edu)\n",
    "- [Sang Tran](mailto:stt008@ucsd.edu)"
   ]
  },
  {
   "cell_type": "markdown",
   "metadata": {},
   "source": [
    "# Abstract \n",
    "This paper presents a method of classifying galaxies using two-dimensional \n",
    "maps from the Mapping Nearby Galaxies at APO (MaNGA). We develop and evaluate \n",
    "using supervised machine learning for galaxy type classification. Utilizing \n",
    "MaNGA two-dimensional  spectra data, although its original goal is to \n",
    "understand life history of our present day galaxies, our approach employs a \n",
    "novel approach with an attempt to classify galaxies' morphological shapes. \n",
    "The performance of the proposed classification model is evaluated using an \n",
    "extensive dataset of MaNGA spectra from the Sloan Digital Sky Survey and \n",
    "labeled galaxies' shapes from the Galaxy Zoo 1. Instead of using filters from \n",
    "a Convolution Neural Networks (CNN) architecture to train, we will reduce our \n",
    "two-dimensional data into one-dimensional and use that to train via different \n",
    "algorithm models to compare and contrast such as one-vs-rest, support vector \n",
    "machines, and decision trees."
   ]
  },
  {
   "cell_type": "markdown",
   "metadata": {},
   "source": [
    "# Background\n",
    "\n",
    "### Galaxies?\n",
    "When you look up into the sky, there are thousands of stars that are \n",
    "pinpricks of light (assuming you are in a dark place). The vasy majority \n",
    "of these stars that are visible to us are only in our nearest neighborhood \n",
    "of the galaxy: within a couple hundred light-years of us \n",
    "[\\[A\\]](https://physics.stackexchange.com/a/164021), and make up less than \n",
    "1% of a percent of the stars in our galaxy (Actually its less than a \n",
    "thousanth of that, if you include all stars visible throughout the year). \n",
    "Beyond these stars, and even beyond our galaxy are billions of other \n",
    "galaxies that are similarly vast to our own milkyway. The Hubble Space \n",
    "Telescope famously took a long exposure of one of the darkest areas of the \n",
    "sky, and produced \n",
    "[a beautiful image](https://web.archive.org/web/20230222000000/https://www.nasa.gov/mission_pages/hubble/servicing/SM4/multimedia/wfpc/deep-field.html) \n",
    "showing many many speckles, all of which were very distant galaxies. \n",
    "\n",
    "These galaxies can be divided into a few categories based on their visual \n",
    "shape, allowing for categorization and study of similar galaxies and how they \n",
    "formed and evolve over the vast lifespan of the universe. There are two main \n",
    "categories: Spiral and Elliptical galaxies. These two categories can be \n",
    "further divided into how elliptical and how well defined the spiral arms are, \n",
    "resulting in a total of [11 subcategories](https://esahubble.org/images/heic9902o/).\n",
    "\n",
    "### Prior Research:\n",
    "\n",
    "Galaxies have previously been categorized en-mas using low resolution spectral \n",
    "information (ie: broad color filters), with crowdsourced shape identification \n",
    "through the project \\[Galaxy Zoo\\]. Previous attempts have been made to train \n",
    "a classifier on the 3 color images and shapes with moderate to low success \n",
    "[\\[B\\]](https://youtu.be/H6UBjbio5-A). In this project we plan to apply these \n",
    "techniques to classify galaxies based on high resolution spectral data from the \n",
    "MaNGA Survey (Mapping Nearby Galaxies at APO) from the Sloan Digital Sky Survey.\n",
    "\n",
    "### Spectra?\n",
    "Objects that emit light emit light in a range of wavelengths that are precieved \n",
    "by humans as different colors. Different objects produce, absorb, and reflect \n",
    "light at different wavelengths differently in characteristic ways that can tell \n",
    "information about a source.\n",
    "\n",
    "For the most part there are two main production methods: One, when any object \n",
    "is heated up, it has general emissions over a broad range of wavelengths, known \n",
    "as black-body radiation. And the other is when various gasses are ionized and \n",
    "changing energy states, when electrons fall back into lower energy states, they \n",
    "release photons of energy at very specific wavelengths that corrospond exactly \n",
    "with the energy released by the electron. These create spectral lines: a large \n",
    "concentration of light intensity in a small band of wavelengths.\n",
    "\n",
    "However this process also has its opposite: when that wavelength passes through \n",
    "a material that would emit at that wavelength, that material can absorb that \n",
    "light in the opposite process as the creation of spectral lines. These are \n",
    "called {spectral }, and they, in addition to physically blocking light (like \n",
    "dust or a solid rock), are how most light is attenuated. Most spectra are \n",
    "primarily made up of these features, and can be used to determine the \n",
    "tempurature and chemical makeup of the source that emitted that light. \n",
    "\n",
    "Humans only have 4 kinds of light sensing cells (three for color and one for \n",
    "luminance) that are sensetive to a very small portion of the spectrum, and \n",
    "thus can't view anything outside of that small range. But even within that \n",
    "range, only having three sensors means there is low spectral information. \n",
    "Technology has provided us with a way to measure precise spectra: the \n",
    "spectrograph. A spectrograph can measure the exact intensitites at very precice \n",
    "wavelengths of light, allowing for a lot of information to be gleaned about the \n",
    "source. \n",
    "\n",
    "The survey that we are using (MaNGA) has collected spectra for {hundreds of \n",
    "thousands} of galaxies, which are corrolated with that galaxy's history and makeup, \n",
    "which is also corrolated with the galaxy's shape. Thus we can use these spectral \n",
    "readings of these galaxies to hopefully make predictions about their shapes."
   ]
  },
  {
   "cell_type": "markdown",
   "metadata": {},
   "source": [
    "# Problem Statement\n",
    "\n",
    "Galaxy classification is a difficult task due to the large number of galaxies \n",
    "which all have varying sizes, shapes, and structures. There are more than 100 \n",
    "billion galaxies in the observable universe, each possessing their own \n",
    "distinct form. Additionally, galaxies progress over time, making it difficult \n",
    "to break them down into distinct groups. The images of galaxies we observe from \n",
    "Earth are often blurred due to light being refracted through dust and gas in \n",
    "space, making the classification process even more complex. However, we will \n",
    "classify the shapes of the galaxies into three universally agreed shapes as \n",
    "elliptical, spiral, or irregular. A well-known original Galaxy Zoo Project \n",
    "attempted to classify galaxies shapes based on the confidence level defined \n",
    "as number of votes. This method raises a compromise between the number of \n",
    "galaxies that remain unclassified and those that are incorrectly classified. "
   ]
  },
  {
   "cell_type": "markdown",
   "metadata": {},
   "source": [
    "# Data\n"
   ]
  },
  {
   "cell_type": "markdown",
   "metadata": {},
   "source": [
    "# Proposed Solution\n",
    "\n",
    "Our proposed solution is to use one dimensional data, which are transformed \n",
    "from two dimensional spectra data from MaNGA to train with labels matched \n",
    "from Galaxy Zoo Data Release 1.\n",
    "\n",
    "We will first need search for overlapping data between the two sources so that \n",
    "we can match the data from MaNGA with labels from Galaxy Zoo. After that, a \n",
    "appropriate method will be chosen to best approximate the 2D data into 1D \n",
    "without losing much information."
   ]
  },
  {
   "cell_type": "markdown",
   "metadata": {},
   "source": [
    "# Evaluation Metrics\n"
   ]
  },
  {
   "cell_type": "markdown",
   "metadata": {},
   "source": [
    "# Ethics & Privacy\n",
    "\n",
    "Galaxy classification is a large task due to the number of galaxies, and as such \n",
    "is assisted by computers and/or crowds. However, using our algorithm may lead to \n",
    "undue confidence in its results. For example, since the classifier should be \n",
    "relatively cheap to run in terms of compute and it only relies on spectral data, \n",
    "this classifier may be preferred to other better classifiers. Taking this kind \n",
    "of shortcut may cause researchers to be led astray, or in more malicious cases, \n",
    "to perform sloppy analyses or even fabricate research.\n",
    "\n",
    "Inexpensive galaxy classification is crucial to studying large amounts of \n",
    "galaxies at once. Since our classifier only looks at a subset of the available \n",
    "data, it may ignore atypical examples of galaxies, such as red (old) spiral \n",
    "galaxies and blue (new) elliptical galaxies. Thus, if researchers used our \n",
    "classification to conduct large-scale causative analyses, their ground dataset \n",
    "would be biased, which could likely cause effects that would otherwise be \n",
    "observed to disappear, or ostensible effects that are actually correlated with \n",
    "confounding variables. In general, drawing conclusions from a biased \n",
    "classification of galaxies could easily lead to inaccurate results. Inaccuracy \n",
    "in science lowers the quality of research, concretely effects the allocation of \n",
    "resources, and could prematurely close off otherwise-promising areas of research \n",
    "while developing/keeping lower quality areas.\n",
    "\n",
    "This effect can be mitigated by clearly labeling the responsible use and limits \n",
    "of the classifier. However, there still exists potential of harm when \n",
    "recklessly or maliciously used."
   ]
  },
  {
   "cell_type": "markdown",
   "metadata": {},
   "source": [
    "# Team Expectations "
   ]
  },
  {
   "cell_type": "markdown",
   "metadata": {},
   "source": [
    "# Project Timeline Proposal\n",
    "\n",
    "> Replace this with something meaningful that is appropriate for your needs. It doesn't have to be something that fits this format.  It doesn't have to be set in stone... \"no battle plan survives contact with the enemy\". But you need a battle plan nonetheless, and you need to keep it updated so you understand what you are trying to accomplish, who's responsible for what, and what the expected due dates are for each item.\n",
    "> \n",
    "> | Meeting Date  | Meeting Time| Completed Before Meeting  | Discuss at Meeting |\n",
    "> |---|---|---|---|\n",
    "> | 1/20  |  1 PM |  Brainstorm topics/questions (all)  | Determine best form of communication; Discuss and decide on final project topic; discuss hypothesis; begin background research | \n",
    "> | 1/26  |  10 AM |  Do background research on topic (Pelé) | Discuss ideal dataset(s) and ethics; draft project proposal | \n",
    "> | 2/1  | 10 AM  | Edit, finalize, and submit proposal; Search for datasets (Beckenbaur)  | Discuss Wrangling and possible analytical approaches; Assign group members to lead each specific part   |\n",
    "> | 2/14  | 6 PM  | Import & Wrangle Data ,do some EDA (Maradonna) | Review/Edit wrangling/EDA; Discuss Analysis Plan   |\n",
    "> | 2/23  | 12 PM  | Finalize wrangling/EDA; Begin programming for project (Cruyff) | Discuss/edit project code; Complete project |\n",
    "> | 3/13  | 12 PM  | Complete analysis; Draft results/conclusion/discussion (Carlos)| Discuss/edit full project |\n",
    "> | 3/19  | Before 11:59 PM  | NA | Turn in Final Project  |"
   ]
  },
  {
   "cell_type": "markdown",
   "metadata": {},
   "source": [
    "# Footnotes\n",
    "> <a name=\"lorenznote\"></a>1.[^](#lorenz): Lorenz, T. (9 Dec 2021) Birds Aren’t Real, or Are They? Inside a Gen Z Conspiracy Theory. *The New York Times*. https://www.nytimes.com/2021/12/09/technology/birds-arent-real-gen-z-misinformation.html<br> \n",
    "> <a name=\"admonishnote\"></a>2.[^](#admonish): Also refs should be important to the background, not some randomly chosen vaguely related stuff. Include a web link if possible in refs as above.<br>\n",
    "> <a name=\"sotanote\"></a>3.[^](#sota): Perhaps the current state of the art solution such as you see on [Papers with code](https://paperswithcode.com/sota). Or maybe not SOTA, but rather a standard textbook/Kaggle solution to this kind of problem\n"
   ]
  }
 ],
 "metadata": {
  "kernelspec": {
   "display_name": "Python 3 (ipykernel)",
   "language": "python",
   "name": "python3"
  },
  "language_info": {
   "codemirror_mode": {
    "name": "ipython",
    "version": 3
   },
   "file_extension": ".py",
   "mimetype": "text/x-python",
   "name": "python",
   "nbconvert_exporter": "python",
   "pygments_lexer": "ipython3",
   "version": "3.9.13"
  }
 },
 "nbformat": 4,
 "nbformat_minor": 2
}
